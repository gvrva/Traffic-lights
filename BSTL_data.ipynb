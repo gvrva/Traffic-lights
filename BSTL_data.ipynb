{
  "nbformat": 4,
  "nbformat_minor": 0,
  "metadata": {
    "colab": {
      "name": "BSTL_data.ipynb",
      "provenance": []
    },
    "kernelspec": {
      "name": "python3",
      "display_name": "Python 3"
    },
    "language_info": {
      "name": "python"
    }
  },
  "cells": [
    {
      "cell_type": "markdown",
      "metadata": {
        "id": "hV0J1CBdu6lS"
      },
      "source": [
        "Before run this code go to directory with Bosch Small Traffic Lights Dataset "
      ]
    },
    {
      "cell_type": "code",
      "metadata": {
        "id": "CriWKvJ_rQlE"
      },
      "source": [
        "import yaml\n",
        "import re"
      ],
      "execution_count": 1,
      "outputs": []
    },
    {
      "cell_type": "code",
      "metadata": {
        "id": "gCoNA8DXurAT"
      },
      "source": [
        "with open('train.yaml') as file:\n",
        "    # The FullLoader parameter handles the conversion from YAML\n",
        "    # scalar values to Python the dictionary format\n",
        "    labels = yaml.load(file, Loader=yaml.FullLoader)"
      ],
      "execution_count": null,
      "outputs": []
    },
    {
      "cell_type": "code",
      "metadata": {
        "id": "s6lsbyEQuyKC"
      },
      "source": [
        "height = 720\n",
        "width = 1280"
      ],
      "execution_count": null,
      "outputs": []
    },
    {
      "cell_type": "code",
      "metadata": {
        "id": "0rusIgUZuyt-"
      },
      "source": [
        "label_to_idx = {'go':0, 'warning':1, 'stop': 2}"
      ],
      "execution_count": null,
      "outputs": []
    },
    {
      "cell_type": "code",
      "metadata": {
        "id": "pdKuZ_YNu3Wa"
      },
      "source": [
        "k = 0\n",
        "for l in labels:\n",
        "    k += 1\n",
        "    if l['boxes']:\n",
        "        name = re.search(r'g/(.*).png',l['path']).group(1)\n",
        "        f = open(name, 'w')\n",
        "        for box in l['boxes']:\n",
        "            if 'Green' in box['label']:\n",
        "                lab = 0\n",
        "            elif 'Red' in box['label']:\n",
        "                lab = 2\n",
        "            else:\n",
        "                lab = 1 \n",
        "                \n",
        "            x = ((box['x_max'] + box['x_min'])/2)/width\n",
        "            y = ((box['y_max'] + box['y_min'])/2)/height\n",
        "            \n",
        "            w = (box['x_max'] - box['x_min'])/width\n",
        "            h = (box['y_max'] - box['y_min'])/height\n",
        "            \n",
        "            l_to = [lab, x, y, w, h]\n",
        "            \n",
        "            f.write(' '.join(map(str,l_to)) + '\\n')\n",
        "            \n",
        "        f.close()\n",
        "\n",
        "    \n",
        "        \n",
        "        "
      ],
      "execution_count": null,
      "outputs": []
    },
    {
      "cell_type": "markdown",
      "metadata": {
        "id": "8v7-fv41vdbI"
      },
      "source": [
        "After all this steps, you have to load imgs to /Data/train/images/ and labels to /Data/train/labels/"
      ]
    },
    {
      "cell_type": "code",
      "metadata": {
        "id": "HzKXRlHOvkZp"
      },
      "source": [
        ""
      ],
      "execution_count": null,
      "outputs": []
    }
  ]
}