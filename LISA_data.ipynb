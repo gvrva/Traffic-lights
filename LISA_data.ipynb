{
  "nbformat": 4,
  "nbformat_minor": 0,
  "metadata": {
    "colab": {
      "name": "LISA_data.ipynb",
      "provenance": [],
      "collapsed_sections": []
    },
    "kernelspec": {
      "name": "python3",
      "display_name": "Python 3"
    },
    "language_info": {
      "name": "python"
    }
  },
  "cells": [
    {
      "cell_type": "code",
      "metadata": {
        "id": "T9fQOAQHoo65"
      },
      "source": [
        "from google.colab import drive\n",
        "import shutil\n",
        "import os \n",
        "import pandas as pd \n",
        "import re\n",
        "import cv2\n",
        "from tqdm import tqdm\n",
        "import shutil"
      ],
      "execution_count": 4,
      "outputs": []
    },
    {
      "cell_type": "code",
      "metadata": {
        "id": "xYK43DY2pI2N"
      },
      "source": [
        "# Function to convert labels of LISA data to necessary labels\n",
        "def changeAnnotation(x):\n",
        "    if 'go' in x['Annotation tag']:\n",
        "        return label_to_idx['go']\n",
        "    elif 'warning' in x['Annotation tag']:\n",
        "        return label_to_idx['warning']\n",
        "    elif 'stop' in x['Annotation tag']:\n",
        "        return label_to_idx['stop']"
      ],
      "execution_count": 2,
      "outputs": []
    },
    {
      "cell_type": "code",
      "metadata": {
        "colab": {
          "base_uri": "https://localhost:8080/"
        },
        "id": "85HLdwX6pefX",
        "outputId": "69dff3d7-c3dd-477f-ced8-fb8a7745dd74"
      },
      "source": [
        "drive.mount('/content/gdrive')"
      ],
      "execution_count": 3,
      "outputs": [
        {
          "output_type": "stream",
          "text": [
            "Mounted at /content/gdrive\n"
          ],
          "name": "stdout"
        }
      ]
    },
    {
      "cell_type": "code",
      "metadata": {
        "id": "RmMT3UOcpidp"
      },
      "source": [
        "os.chdir('gdrive/MyDrive/TipsAndTripcksProject /ultralytics/Data'\n",
        "label_to_idx = {'go':0, 'warning':1, 'stop': 2}\n",
        "label_to_color = {0:(0, 255, 0), 1:(255, 255, 0), 2:(255, 0, 0)}\n",
        "idx_to_label = {v:k for k,v in label_to_idx.items()})"
      ],
      "execution_count": null,
      "outputs": []
    },
    {
      "cell_type": "markdown",
      "metadata": {
        "id": "Kfjt-x34qHLS"
      },
      "source": [
        "Here we change format of out LISA dataset and save results to \\Data\\train\\images\\ and \\Data\\train\\labels\\"
      ]
    },
    {
      "cell_type": "code",
      "metadata": {
        "id": "fhOnzLbaqDdT"
      },
      "source": [
        "k = 0\n",
        "for i in range(1,14):\n",
        "  print('--------------------------------------->',i, end='\\n')\n",
        "  files = os.listdir('dayClip{}/frames'.format(i))\n",
        "  annot = pd.read_csv('../../Annotations/Annotations/dayTrain/dayClip{}/frameAnnotationsBOX.csv'.format(i), sep=';')\n",
        "  annot['Filename_part'] = annot['Filename'].apply(lambda x: re.search('--(.+?).jpg',x).group(1))\n",
        "  annot['pc_X'] = (annot['Upper left corner X'] + annot['Lower right corner X'])/2\n",
        "  annot['pc_Y'] = (annot['Upper left corner Y'] + annot['Lower right corner Y'])/2\n",
        "  annot['pc_X'] = annot['pc_X'].astype({'pc_X':int})\n",
        "  annot['pc_Y'] = annot['pc_Y'].astype({'pc_Y':int})\n",
        "  annot['W'] = (annot['Lower right corner X'] - annot['Upper left corner X'])\n",
        "  annot['H'] = (annot['Lower right corner Y'] - annot['Upper left corner Y'])\n",
        "  annot['class'] = annot.apply(changeAnnotation,axis=1)\n",
        "  # annot['class'] = annot['Annotation tag'].apply(lambda x: label_to_idx[x])\n",
        "\n",
        "  for f in tqdm(files):\n",
        "    k+=1\n",
        "    img = cv2.imread(os.path.join('dayClip{}/frames'.format(i), f))\n",
        "    H,W,C = img.shape\n",
        "    f_num = re.search('--(.+?).jpg', f).group(1)\n",
        "    df_f = annot[annot['Filename_part'] == f_num]\n",
        "    df_f['pc_X'] = df_f['pc_X']/W\n",
        "    df_f['W'] = df_f['W']/W\n",
        "    df_f['pc_Y'] = df_f['pc_Y']/H\n",
        "    df_f['H'] = df_f['H']/H\n",
        "    if df_f.shape[0] != 0:\n",
        "      df_f[['class', 'pc_X', 'pc_Y', 'W', 'H']].to_csv('../../../ultralytics/Data/labels/train/img{}.txt'.format(k),\n",
        "                                                       index=False, header=False, sep=' ')\n",
        "    shutil.copyfile(os.path.join('dayClip{}/frames'.format(i),f), '../../../ultralytics/Data/images/train/img{}.jpg'.format(k))\n",
        "\n",
        "\n"
      ],
      "execution_count": null,
      "outputs": []
    },
    {
      "cell_type": "markdown",
      "metadata": {
        "id": "MZ4PqPAYqrdN"
      },
      "source": [
        "Here we change format of out LISA dataset and save results to \\Data\\val\\images\\ and \\Data\\val\\labels\\"
      ]
    },
    {
      "cell_type": "code",
      "metadata": {
        "id": "GMOcMggGqvbK"
      },
      "source": [
        "k = 0\n",
        "for i in range(1,2):\n",
        "  print('--------------------------------------->',i, end='\\n')\n",
        "  files = os.listdir('frames')\n",
        "  annot = pd.read_csv('../../Annotations/Annotations/daySequence1/frameAnnotationsBOX.csv', sep=';')\n",
        "  annot['Filename_part'] = annot['Filename'].apply(lambda x: re.search('--(.+?).jpg',x).group(1))\n",
        "  annot['pc_X'] = (annot['Upper left corner X'] + annot['Lower right corner X'])/2\n",
        "  annot['pc_Y'] = (annot['Upper left corner Y'] + annot['Lower right corner Y'])/2\n",
        "  annot['pc_X'] = annot['pc_X'].astype({'pc_X':int})\n",
        "  annot['pc_Y'] = annot['pc_Y'].astype({'pc_Y':int})\n",
        "  annot['W'] = (annot['Lower right corner X'] - annot['Upper left corner X'])\n",
        "  annot['H'] = (annot['Lower right corner Y'] - annot['Upper left corner Y'])\n",
        "  annot['class'] = annot.apply(changeAnnotation,axis=1)\n",
        "\n",
        "  for f in tqdm(files):\n",
        "    k+=1\n",
        "    img = cv2.imread(os.path.join('frames', f))\n",
        "    H,W,C = img.shape\n",
        "    f_num = re.search('--(.+?).jpg', f).group(1)\n",
        "    df_f = annot[annot['Filename_part'] == f_num]\n",
        "    df_f['pc_X'] = df_f['pc_X']/W\n",
        "    df_f['W'] = df_f['W']/W\n",
        "    df_f['pc_Y'] = df_f['pc_Y']/H\n",
        "    df_f['H'] = df_f['H']/H\n",
        "    if df_f.shape[0] != 0:\n",
        "      df_f[['class', 'pc_X', 'pc_Y', 'W', 'H']].to_csv('../../../ultralytics/Data/labels/val/img{}.txt'.format(k), index=False, header=False,\n",
        "                                                       sep=' ')\n",
        "    shutil.copyfile(os.path.join('frames',f), '../../../ultralytics/Data/images/val/img{}.jpg'.format(k))\n",
        "\n",
        "\n"
      ],
      "execution_count": null,
      "outputs": []
    }
  ]
}